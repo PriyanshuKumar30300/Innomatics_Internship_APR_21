{
 "cells": [
  {
   "cell_type": "code",
   "execution_count": 2,
   "metadata": {},
   "outputs": [
    {
     "name": "stdout",
     "output_type": "stream",
     "text": [
      "1\n",
      "1\n",
      "1\n",
      "2\n",
      "[[0, 0, 0], [0, 0, 1], [0, 1, 0], [1, 0, 0], [1, 1, 1]]\n"
     ]
    }
   ],
   "source": [
    "# Question 1\n",
    "\n",
    "x = int(input())\n",
    "y = int(input())\n",
    "z = int(input())\n",
    "n = int(input())\n",
    "big=list()\n",
    "for xx in range(x+1):\n",
    "    for yy in range(y+1):\n",
    "        for zz in range(z+1):\n",
    "            if(xx+yy+zz!=n):\n",
    "                lst=list();\n",
    "                lst.append(xx);\n",
    "                lst.append(yy);\n",
    "                lst.append(zz);\n",
    "                big.append(lst);\n",
    "print(big);"
   ]
  },
  {
   "cell_type": "code",
   "execution_count": 1,
   "metadata": {},
   "outputs": [
    {
     "name": "stdout",
     "output_type": "stream",
     "text": [
      "5\n",
      "2 3 6 6 4\n",
      "4\n",
      "3\n",
      "2\n"
     ]
    }
   ],
   "source": [
    "# Question 2\n",
    "\n",
    "n = int(input())\n",
    "lst=list();\n",
    "arr = map(int, input().split())\n",
    "for item in arr:\n",
    "    lst.append(item);\n",
    "lst.sort(reverse=True);    \n",
    "x=lst[0];\n",
    "for item in lst:\n",
    "    if(x>item):\n",
    "        print(item);\n",
    "        quit();"
   ]
  },
  {
   "cell_type": "code",
   "execution_count": null,
   "metadata": {},
   "outputs": [],
   "source": [
    "# Question 3\n",
    "\n",
    "big=list()\n",
    "listed=list()\n",
    "n=input()\n",
    "for item in range(int(n)):\n",
    "    name = input()\n",
    "    lst=list()\n",
    "    score = float(input())\n",
    "    lst.append(score)\n",
    "    lst.append(name)\n",
    "    big.append(lst)\n",
    "big.sort()\n",
    "x=min(big)\n",
    "for item in big:\n",
    "    if item[0] > x[0]:\n",
    "        req=item\n",
    "        break  \n",
    "for item1 in big:\n",
    "    if item1[0]==req[0]:\n",
    "        listed.append(item1[1])\n",
    "listed.sort()\n",
    "for ele in listed:\n",
    "    print(ele)"
   ]
  },
  {
   "cell_type": "code",
   "execution_count": null,
   "metadata": {},
   "outputs": [],
   "source": [
    "# Question 4\n",
    "\n",
    "if __name__ == '__main__':\n",
    "    n = int(input())\n",
    "    student_marks = {}\n",
    "    for i in range(n):\n",
    "        name, *line = input().split()\n",
    "        scores = list(map(float, line))\n",
    "        student_marks[name] = scores\n",
    "    query_name = input()\n",
    "    for item in student_marks:\n",
    "        if item==query_name:\n",
    "            print(\"{0:.2f}\".format(sum(student_marks[item])/len(student_marks[item])))"
   ]
  },
  {
   "cell_type": "code",
   "execution_count": null,
   "metadata": {},
   "outputs": [],
   "source": [
    "# Question 5\n",
    "\n",
    "N = int(input())\n",
    "liist=list()\n",
    "for i in range(N):\n",
    "    cmd=input()\n",
    "    lst=cmd.split()\n",
    "    if lst[0]=='append':\n",
    "        lst.remove('append')\n",
    "        for ele in lst:\n",
    "            liist.append(int(ele))\n",
    "    elif lst[0]=='print':\n",
    "        print(liist)\n",
    "    elif lst[0]=='remove':\n",
    "        lst.remove('remove')\n",
    "        for ele in lst:\n",
    "            liist.remove(int(ele))\n",
    "    elif lst[0]=='pop':\n",
    "        liist.pop(-1)\n",
    "    elif lst[0]=='sort':\n",
    "        liist.sort()\n",
    "    elif lst[0]=='reverse':\n",
    "        liist.reverse()\n",
    "    elif lst[0]=='insert':\n",
    "        liist.insert(int(lst[1]),int(lst[2]))"
   ]
  },
  {
   "cell_type": "code",
   "execution_count": null,
   "metadata": {},
   "outputs": [],
   "source": [
    "# Question 6\n",
    "\n",
    "if __name__ == '__main__':\n",
    "    n = int(input())\n",
    "    integer_list = tuple(map(int, input().split()))\n",
    "    print(hash(integer_list))"
   ]
  },
  {
   "cell_type": "code",
   "execution_count": null,
   "metadata": {},
   "outputs": [],
   "source": [
    "# Question 7\n",
    "\n",
    "def average(array):\n",
    "    myset=set(array)\n",
    "    result=sum(myset)\n",
    "    return result/len(myset)"
   ]
  },
  {
   "cell_type": "code",
   "execution_count": null,
   "metadata": {},
   "outputs": [],
   "source": [
    "# Question 8\n",
    "\n",
    "i = input().split()\n",
    "m = int(i[0])\n",
    "n = int(i[1])\n",
    "\n",
    "c = 0\n",
    "\n",
    "s = list(map(int, input().strip().split()))\n",
    "\n",
    "a = set(map(int, input().strip().split()))\n",
    "b = set(map(int, input().strip().split()))\n",
    "\n",
    "for i in s:\n",
    "    if i in a:\n",
    "        c = c+1\n",
    "    if i in b:\n",
    "        c = c-1\n",
    "\n",
    "print(c)"
   ]
  },
  {
   "cell_type": "code",
   "execution_count": null,
   "metadata": {},
   "outputs": [],
   "source": [
    "# Question 9\n",
    "\n",
    "n=int(input())\n",
    "arr=map(int,input().split())\n",
    "m=int(input())\n",
    "arr2=map(int,input().split())\n",
    "myset1=set(arr)\n",
    "myset2=set(arr2)\n",
    "myset3=myset1 & myset2\n",
    "myset4=myset1 | myset2\n",
    "myset5=myset4 - myset3\n",
    "myset6=sorted(myset5)\n",
    "for i in myset6:\n",
    "    print(i)"
   ]
  },
  {
   "cell_type": "code",
   "execution_count": null,
   "metadata": {},
   "outputs": [],
   "source": [
    "# Question 10\n",
    "\n",
    "n=int(input())\n",
    "myset=set()\n",
    "for i in range(n):\n",
    "    myset.add(input())\n",
    "print(len(myset))"
   ]
  },
  {
   "cell_type": "code",
   "execution_count": null,
   "metadata": {},
   "outputs": [],
   "source": [
    "# Question 11\n",
    "\n",
    "n = int(input())\n",
    "s = set(map(int,input().split()))\n",
    "number = int(input())\n",
    "for i in range(number):\n",
    "    input1 = input().split()\n",
    "    if input1[0]==\"remove\":\n",
    "        s.remove(int(input1[1]))\n",
    "    elif input1[0]==\"discard\":\n",
    "        s.discard(int(input1[1]))\n",
    "    else :\n",
    "        s.pop()\n",
    "print(sum(list(s)))"
   ]
  },
  {
   "cell_type": "code",
   "execution_count": null,
   "metadata": {},
   "outputs": [],
   "source": [
    "# Question 12\n",
    "\n",
    "n=int(input())\n",
    "arr=map(int,input().split())\n",
    "m=int(input())\n",
    "arr1=map(int,input().split())\n",
    "myset=set(arr)\n",
    "myset1=set(arr1)\n",
    "myset2=myset | myset1\n",
    "print(len(myset2))"
   ]
  },
  {
   "cell_type": "code",
   "execution_count": null,
   "metadata": {},
   "outputs": [],
   "source": [
    "# Question 13\n",
    "\n",
    "m=int(input())\n",
    "arr=map(int,input().split())\n",
    "n=int(input())\n",
    "arr1=map(int,input().split())\n",
    "myset=set(arr)\n",
    "myset1=set(arr1)\n",
    "myset2=myset & myset1\n",
    "print(len(myset2))"
   ]
  },
  {
   "cell_type": "code",
   "execution_count": null,
   "metadata": {},
   "outputs": [],
   "source": [
    "# Question 14\n",
    "\n",
    "n=int(input())\n",
    "arr=map(int,input().split())\n",
    "m=int(input())\n",
    "arr1=map(int,input().split())\n",
    "myset=set(arr)\n",
    "myset1=set(arr1)\n",
    "myset2=myset - myset1\n",
    "print(len(myset2))"
   ]
  },
  {
   "cell_type": "code",
   "execution_count": null,
   "metadata": {},
   "outputs": [],
   "source": [
    "# Question 15\n",
    "\n",
    "n=int(input())\n",
    "arr1=map(int,input().split())\n",
    "m=int(input())\n",
    "arr2=map(int,input().split())\n",
    "myset1=set(arr1)\n",
    "myset2=set(arr2)        \n",
    "print(len(myset1 ^ myset2))"
   ]
  },
  {
   "cell_type": "code",
   "execution_count": null,
   "metadata": {},
   "outputs": [],
   "source": [
    "# Question 16\n",
    "\n",
    "n = int(input())\n",
    "A = set(map(int,input().split()))\n",
    "num = int(input())\n",
    "for i in range(num):\n",
    "    x = input().split()\n",
    "    choice = x[0]\n",
    "    elem = set(map(int,input().split()))\n",
    "    if (choice == 'update'):\n",
    "        A =A | elem\n",
    "    elif (choice == 'intersection_update'):\n",
    "        A =A & elem\n",
    "    elif (choice == 'difference_update'):\n",
    "        A =A - elem\n",
    "    elif (choice == 'symmetric_difference_update'):\n",
    "        A =A ^ elem\n",
    "print(sum(A))"
   ]
  },
  {
   "cell_type": "code",
   "execution_count": null,
   "metadata": {},
   "outputs": [],
   "source": [
    "# Question 17\n",
    "\n",
    "K = int(input())\n",
    "room=list(map(int, input().split()))\n",
    "room_set = set(room)\n",
    "x=((sum(room_set)*K)-(sum(room)))\n",
    "print(x//(K-1))"
   ]
  },
  {
   "cell_type": "code",
   "execution_count": null,
   "metadata": {},
   "outputs": [],
   "source": [
    "# Question 18\n",
    "\n",
    "n=int(input())\n",
    "for i in range(n):\n",
    "    m=int(input())\n",
    "    arr=map(int,input().split())\n",
    "    m1=int(input())\n",
    "    arr1=map(int,input().split())\n",
    "    myset=set(arr)\n",
    "    myset1=set(arr1)\n",
    "    if(len(myset - myset1)==0):\n",
    "        print('True')\n",
    "    else:\n",
    "        print('False')"
   ]
  },
  {
   "cell_type": "code",
   "execution_count": null,
   "metadata": {},
   "outputs": [],
   "source": [
    "# Question 19\n",
    "\n",
    "count=0\n",
    "arr=map(int,input().split())\n",
    "n=int(input())\n",
    "myset=set(arr)\n",
    "for i in range(n):\n",
    "    arr1=map(int,input().split())\n",
    "    myset1=set(arr1)\n",
    "    if(len(myset1-myset)==0):\n",
    "        count=count+1\n",
    "if count==n:\n",
    "    print('True')\n",
    "else:\n",
    "    print('False')"
   ]
  }
 ],
 "metadata": {
  "kernelspec": {
   "display_name": "Python 3",
   "language": "python",
   "name": "python3"
  },
  "language_info": {
   "codemirror_mode": {
    "name": "ipython",
    "version": 3
   },
   "file_extension": ".py",
   "mimetype": "text/x-python",
   "name": "python",
   "nbconvert_exporter": "python",
   "pygments_lexer": "ipython3",
   "version": "3.8.3"
  }
 },
 "nbformat": 4,
 "nbformat_minor": 4
}
