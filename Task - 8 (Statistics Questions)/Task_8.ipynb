{
 "cells": [
  {
   "cell_type": "code",
   "execution_count": 1,
   "metadata": {},
   "outputs": [
    {
     "name": "stdout",
     "output_type": "stream",
     "text": [
      "1.09 1\n",
      "0.696\n"
     ]
    }
   ],
   "source": [
    "# Question 1\n",
    "\n",
    "def fact(n):\n",
    "    fac=1\n",
    "    for i in range(n):\n",
    "        fac*=(i+1)\n",
    "    return fac\n",
    "    \n",
    "lst=list(map(float,input().split(' ')))\n",
    "\n",
    "p= lst[0]/(lst[0]+lst[1])\n",
    "fact_6=fact(6)\n",
    "su=0\n",
    "\n",
    "for i in range(3,7):\n",
    "    t=fact_6/(fact(i)*fact(6-i))\n",
    "    \n",
    "    k=p**i * (1-p)**(6-i)\n",
    "    su+= t*k\n",
    "    \n",
    "print(round(su,3))"
   ]
  },
  {
   "cell_type": "code",
   "execution_count": 2,
   "metadata": {},
   "outputs": [
    {
     "name": "stdout",
     "output_type": "stream",
     "text": [
      "12 10\n",
      "0.891\n",
      "0.342\n"
     ]
    }
   ],
   "source": [
    "# Question 2\n",
    "\n",
    "\n",
    "def fact(n):\n",
    "    fac=1\n",
    "    for i in range(1,n+1):\n",
    "        fac*=i\n",
    "    return fac\n",
    "\n",
    "lst=list(map(int,input().split()))\n",
    "\n",
    "p=lst[0]/100\n",
    "n=lst[1]\n",
    "fac_10=fact(n)\n",
    "su=0\n",
    "ans=0\n",
    "\n",
    "for i in range(3):\n",
    "    t=fac_10/(fact(i)*fact(n-i))\n",
    "    k= p**i *(1-p)**(n-i)\n",
    "    tk=t*k\n",
    "    if(i==2):\n",
    "        ans=tk\n",
    "    su+=tk\n",
    "    \n",
    "print(round(su,3))\n",
    "print(round((1-su+tk),3))"
   ]
  },
  {
   "cell_type": "code",
   "execution_count": 3,
   "metadata": {},
   "outputs": [
    {
     "name": "stdout",
     "output_type": "stream",
     "text": [
      "20 2\n",
      "19.5\n",
      "0.401\n",
      "20 22\n",
      "0.341\n"
     ]
    }
   ],
   "source": [
    "# Question 3\n",
    "\n",
    "import math\n",
    "\n",
    "def norm(mean,std,x):\n",
    "    sq=(x-mean)\n",
    "    t=sq/(std*(2**0.5))\n",
    "    t=math.erf(t)\n",
    "    t+=1\n",
    "    t=t/2\n",
    "    return t\n",
    "\n",
    "lst=list(map(float,input().split(' ')))\n",
    "mean=lst[0]\n",
    "std=lst[1]\n",
    "\n",
    "x=float(input())\n",
    "ans=norm(mean,std,x)\n",
    "print(round(ans,3))\n",
    "\n",
    "lst=list(map(float,input().split(' ')))\n",
    "\n",
    "ans=norm(mean,std,lst[1])-norm(mean,std,lst[0])\n",
    "print(round(ans,3))"
   ]
  },
  {
   "cell_type": "code",
   "execution_count": 4,
   "metadata": {},
   "outputs": [
    {
     "name": "stdout",
     "output_type": "stream",
     "text": [
      "70 10\n",
      "80\n",
      "15.87\n",
      "60\n",
      "84.13\n",
      "15.87\n"
     ]
    }
   ],
   "source": [
    "# Question 4\n",
    "\n",
    "import math\n",
    "\n",
    "def norm(mean,std,x):\n",
    "    sq=(x-mean)\n",
    "    t=sq/(std*(2**0.5))\n",
    "    t=math.erf(t)\n",
    "    t+=1\n",
    "    t=t/2\n",
    "    return t\n",
    "\n",
    "lst=list(map(float,input().split(' ')))\n",
    "mean=lst[0]\n",
    "std=lst[1]\n",
    "\n",
    "x=float(input())\n",
    "ans=norm(mean,std,x)\n",
    "print(round(((1-ans)*100),2))\n",
    "\n",
    "x=float(input())\n",
    "\n",
    "ans=norm(mean,std,x)\n",
    "\n",
    "print(round(((1-ans)*100),2))\n",
    "print(round(ans*100,2))"
   ]
  },
  {
   "cell_type": "code",
   "execution_count": 5,
   "metadata": {},
   "outputs": [
    {
     "name": "stdout",
     "output_type": "stream",
     "text": [
      "9800\n",
      "49\n",
      "205\n",
      "15\n",
      "0.0098\n"
     ]
    }
   ],
   "source": [
    "# Question  5\n",
    "\n",
    "import math\n",
    "\n",
    "x=int(input())\n",
    "n=int(input())\n",
    "sam_mean=int(input())*n\n",
    "std=int(input())*(n**0.5)\n",
    "\n",
    "z=(x-sam_mean)/std\n",
    "\n",
    "t=0.5*(1+math.erf(z/(2**0.5)))\n",
    "\n",
    "print(round(t,4))"
   ]
  },
  {
   "cell_type": "code",
   "execution_count": 9,
   "metadata": {},
   "outputs": [
    {
     "name": "stdout",
     "output_type": "stream",
     "text": [
      "250\n",
      "100\n",
      "2.4\n",
      "2.0\n",
      "0.6915\n"
     ]
    }
   ],
   "source": [
    "# Question 6\n",
    "\n",
    "\n",
    "import math\n",
    "x=int(input())\n",
    "n=int(input())\n",
    "mu=float(input())\n",
    "std=float(input())\n",
    "\n",
    "mu_sum=mu*n\n",
    "std_sum=std*(n**0.5)\n",
    "\n",
    "z=(x-mu_sum)/std_sum\n",
    "\n",
    "ans=0.5*(1+math.erf(z/(2**0.5)))\n",
    "print(round(ans,4))"
   ]
  },
  {
   "cell_type": "code",
   "execution_count": 10,
   "metadata": {},
   "outputs": [
    {
     "name": "stdout",
     "output_type": "stream",
     "text": [
      "100\n",
      "500\n",
      "80\n",
      ".95\n",
      "1.96\n",
      "484.32\n",
      "515.68\n"
     ]
    }
   ],
   "source": [
    "# Question  7\n",
    "\n",
    "n=int(input())\n",
    "mu=int(input())\n",
    "std=int(input())\n",
    "p=float(input())\n",
    "z=float(input())\n",
    "\n",
    "z=z*(std/(n**0.5))\n",
    "\n",
    "A=mu-z\n",
    "B=z+mu\n",
    "print(round(A,2))\n",
    "print(round(B,2))"
   ]
  },
  {
   "cell_type": "code",
   "execution_count": 11,
   "metadata": {},
   "outputs": [
    {
     "name": "stdout",
     "output_type": "stream",
     "text": [
      "10\n",
      "10 9.8 8 7.8 7.7 7 6 5 4 2\n",
      "200 44 32 24 22 17 15 12 8 4\n",
      "0.612\n"
     ]
    }
   ],
   "source": [
    "# Question 8\n",
    "\n",
    "\n",
    "import statistics as st\n",
    "\n",
    "n=int(input())\n",
    "\n",
    "X=list(map(float,input().strip().split(' ')))\n",
    "Y=list(map(float,input().strip().split(' ')))\n",
    "\n",
    "mu_x=st.mean(X)\n",
    "mu_y=st.mean(Y)\n",
    "\n",
    "std_x=st.pstdev(X)\n",
    "std_y=st.pstdev(Y)\n",
    "\n",
    "su=0\n",
    "\n",
    "for i in range(n):\n",
    "    t=(X[i]-mu_x)*(Y[i]-mu_y)\n",
    "    su+=t\n",
    "    \n",
    "cov=su/n\n",
    "\n",
    "pearson_coeff= cov/(std_x*std_y)\n",
    "\n",
    "print(round(pearson_coeff,3))"
   ]
  },
  {
   "cell_type": "code",
   "execution_count": 2,
   "metadata": {},
   "outputs": [
    {
     "name": "stdout",
     "output_type": "stream",
     "text": [
      "95 85\n",
      "85 95\n",
      "80 70\n",
      "70 65\n",
      "60 70\n",
      "78.288\n"
     ]
    }
   ],
   "source": [
    "# Question 9\n",
    "\n",
    "maths, stats = [],[]\n",
    "\n",
    "for i in range(5):\n",
    "    m, s= map(int,input().split())\n",
    "    maths.append(m)\n",
    "    stats.append(s)\n",
    "\n",
    "def b_value(x,y):\n",
    "    n = len(x)\n",
    "    xy =[x[i]*y[i] for i in range(n) ]\n",
    "    x_square = [i**2 for i in x]\n",
    "    # y_square = [i**2 for i in y]\n",
    "    \n",
    "    b = (n*(sum(xy))-((sum(x)*sum(y))))/float(((n*sum(x_square))-sum(x)**2))\n",
    "    return b\n",
    "    \n",
    "def ab_values(x,y):\n",
    "    x_mean = sum(x)/float(len(x))    \n",
    "    y_mean = sum(y)/float(len(y))\n",
    "    b = b_value(x,y)\n",
    "    a = y_mean - b*x_mean\n",
    "    return a,b\n",
    "    \n",
    "a,b = ab_values(maths,stats)\n",
    "res=a + b*80\n",
    "print(round(res,3))"
   ]
  },
  {
   "cell_type": "code",
   "execution_count": 1,
   "metadata": {},
   "outputs": [
    {
     "name": "stdout",
     "output_type": "stream",
     "text": [
      "2 7\n",
      "0.18 0.89 109.85\n",
      "1.0 0.26 155.72\n",
      "0.92 0.11 137.66\n",
      "0.07 0.37 76.17\n",
      "0.85 0.16 139.75\n",
      "0.99 0.41 162.6\n",
      "0.87 0.47 151.77\n",
      "4\n",
      "0.49 0.18\n",
      "0.57 0.83\n",
      "0.56 0.64\n",
      "0.76 0.18\n",
      "105.21\n",
      "142.67\n",
      "132.94\n",
      "129.7\n"
     ]
    }
   ],
   "source": [
    "# Question 10 \n",
    "\n",
    "\n",
    "import numpy as np\n",
    "\n",
    "m,n = [int(i) for i in input().strip().split(' ')]\n",
    "\n",
    "X = []\n",
    "for i in range(n):\n",
    "    t=[1.0]\n",
    "    X.append(t)\n",
    "    \n",
    "Y = []\n",
    "for i in range(n):\n",
    "    data = input().strip().split(' ')\n",
    "    t=data[:m]\n",
    "    for j in range(m):\n",
    "        X[i].append(t[j])\n",
    "        \n",
    "    Y.append(data[m:])\n",
    "    \n",
    "    \n",
    "q = int(input())\n",
    "\n",
    "X_new = []\n",
    "for x in range(q):\n",
    "    X_new.append(input().strip().split(' '))\n",
    "    X_new[x].insert(0,1.0)\n",
    "    \n",
    "X = np.array(X,float)\n",
    "Y = np.array(Y,float)\n",
    "X_new = np.array(X_new,float)\n",
    "\n",
    "beta = np.dot(np.linalg.inv(np.dot(X.T,X)),np.dot(X.T,Y) )\n",
    "\n",
    "\n",
    "\n",
    "for i in range(q):\n",
    "    t=np.dot(X_new[i],beta)\n",
    "    \n",
    "    print(round(t[0],2))"
   ]
  }
 ],
 "metadata": {
  "kernelspec": {
   "display_name": "Python 3",
   "language": "python",
   "name": "python3"
  },
  "language_info": {
   "codemirror_mode": {
    "name": "ipython",
    "version": 3
   },
   "file_extension": ".py",
   "mimetype": "text/x-python",
   "name": "python",
   "nbconvert_exporter": "python",
   "pygments_lexer": "ipython3",
   "version": "3.8.3"
  }
 },
 "nbformat": 4,
 "nbformat_minor": 4
}
