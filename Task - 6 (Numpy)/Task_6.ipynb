{
 "cells": [
  {
   "cell_type": "code",
   "execution_count": 1,
   "metadata": {},
   "outputs": [
    {
     "name": "stdout",
     "output_type": "stream",
     "text": [
      "1 2 3 4 5 6\n",
      "[6. 5. 4. 3. 2. 1.]\n"
     ]
    }
   ],
   "source": [
    "# Question 1\n",
    "\n",
    "import numpy\n",
    "\n",
    "def arrays(arr):\n",
    "    \n",
    "    a=numpy.array(arr,float)\n",
    "    \n",
    "    n=len(a)\n",
    "    k=n//2\n",
    "    i=0\n",
    "    while i<k:\n",
    "        t=a[n-i-1]\n",
    "        a[n-i-1]=a[i]\n",
    "        a[i]=t\n",
    "        i+=1\n",
    "    \n",
    "    return a\n",
    "    \n",
    "arr = input().strip().split(' ')\n",
    "result = arrays(arr)\n",
    "print(result)"
   ]
  },
  {
   "cell_type": "code",
   "execution_count": 2,
   "metadata": {},
   "outputs": [
    {
     "name": "stdout",
     "output_type": "stream",
     "text": [
      "1 2 3 4 5 6 7 8 9\n",
      "[[1 2 3]\n",
      " [4 5 6]\n",
      " [7 8 9]]\n"
     ]
    }
   ],
   "source": [
    "# Qustion 2\n",
    "\n",
    "import numpy\n",
    "\n",
    "num=list(map(int,input().split(' ')))\n",
    "\n",
    "arr=numpy.array(num)\n",
    "\n",
    "ar=numpy.reshape(arr,(3,3))\n",
    "\n",
    "print(ar)\n"
   ]
  },
  {
   "cell_type": "code",
   "execution_count": 3,
   "metadata": {},
   "outputs": [
    {
     "name": "stdout",
     "output_type": "stream",
     "text": [
      "2 2\n",
      "1 2\n",
      "3 4\n",
      "[[1 3]\n",
      " [2 4]]\n",
      "[1 2 3 4]\n"
     ]
    }
   ],
   "source": [
    "# Question 3\n",
    "\n",
    "import numpy\n",
    "\n",
    "lst=list(map(int,input().split(' ')))\n",
    "n=lst[0]\n",
    "m=lst[1]\n",
    "\n",
    "num=[]\n",
    "\n",
    "for i in range(n):\n",
    "    nu=list(map(int,input().split(' ')))\n",
    "    num.append(nu)\n",
    "    \n",
    "arr2d=numpy.array(num)\n",
    "\n",
    "print(arr2d.T)\n",
    "print(arr2d.flatten())"
   ]
  },
  {
   "cell_type": "code",
   "execution_count": 4,
   "metadata": {},
   "outputs": [
    {
     "name": "stdout",
     "output_type": "stream",
     "text": [
      "4 3 2\n",
      "1 2\n",
      "1 2\n",
      "1 2\n",
      "1 2\n",
      "3 4\n",
      "3 4\n",
      "3 4\n",
      "[[1 2]\n",
      " [1 2]\n",
      " [1 2]\n",
      " [1 2]\n",
      " [3 4]\n",
      " [3 4]\n",
      " [3 4]]\n"
     ]
    }
   ],
   "source": [
    "# Question  4\n",
    "\n",
    "import numpy\n",
    "P, N, M = map(int,input().split())\n",
    "A = numpy.array([input().split() for _ in range(P)],int)\n",
    "B = numpy.array([input().split() for _ in range(N)],int)\n",
    "print(numpy.concatenate((A, B), axis = 0))\n"
   ]
  },
  {
   "cell_type": "code",
   "execution_count": 5,
   "metadata": {},
   "outputs": [
    {
     "name": "stdout",
     "output_type": "stream",
     "text": [
      "3 3 3\n",
      "[[[0 0 0]\n",
      "  [0 0 0]\n",
      "  [0 0 0]]\n",
      "\n",
      " [[0 0 0]\n",
      "  [0 0 0]\n",
      "  [0 0 0]]\n",
      "\n",
      " [[0 0 0]\n",
      "  [0 0 0]\n",
      "  [0 0 0]]]\n",
      "[[[1 1 1]\n",
      "  [1 1 1]\n",
      "  [1 1 1]]\n",
      "\n",
      " [[1 1 1]\n",
      "  [1 1 1]\n",
      "  [1 1 1]]\n",
      "\n",
      " [[1 1 1]\n",
      "  [1 1 1]\n",
      "  [1 1 1]]]\n"
     ]
    }
   ],
   "source": [
    "# Question 5\n",
    "\n",
    "import numpy\n",
    "\n",
    "N = tuple(map(int, input().split()))\n",
    "\n",
    "                \n",
    "print(numpy.zeros(N, dtype = numpy.int))\n",
    "print(numpy.ones(N, dtype = numpy.int))\n"
   ]
  },
  {
   "cell_type": "code",
   "execution_count": 6,
   "metadata": {},
   "outputs": [
    {
     "name": "stdout",
     "output_type": "stream",
     "text": [
      "3 3\n",
      "[[ 1.  0.  0.]\n",
      " [ 0.  1.  0.]\n",
      " [ 0.  0.  1.]]\n"
     ]
    }
   ],
   "source": [
    "# Question 6\n",
    "\n",
    "import numpy\n",
    "numpy.set_printoptions(legacy='1.13')\n",
    "\n",
    "lst=list(map(int,input().split(' ')))\n",
    "n=lst[0]\n",
    "m=lst[1]\n",
    "\n",
    "print(numpy.eye(n,m))"
   ]
  },
  {
   "cell_type": "code",
   "execution_count": 7,
   "metadata": {},
   "outputs": [
    {
     "name": "stdout",
     "output_type": "stream",
     "text": [
      "1 4\n",
      "1 2 3 4\n",
      "5 6 7 8\n",
      "[[ 6  8 10 12]]\n",
      "[[-4 -4 -4 -4]]\n",
      "[[ 5 12 21 32]]\n",
      "[[0 0 0 0]]\n",
      "[[1 2 3 4]]\n",
      "[[    1    64  2187 65536]]\n"
     ]
    }
   ],
   "source": [
    "# Question 7\n",
    "\n",
    "import numpy\n",
    "n,m=map(int,input().split())\n",
    "A=numpy.array([list(map(int,input().split())) for i in range(n)])\n",
    "B=numpy.array([list(map(int,input().split())) for i in range(n)])\n",
    "print(A+B,A-B,A*B,A//B,A%B,A**B,sep='\\n')\n"
   ]
  },
  {
   "cell_type": "code",
   "execution_count": 8,
   "metadata": {},
   "outputs": [
    {
     "name": "stdout",
     "output_type": "stream",
     "text": [
      "1.1 2.2 3.3 4.4 5.5 6.6 7.7 8.8 9.9\n",
      "[ 1.  2.  3.  4.  5.  6.  7.  8.  9.]\n",
      "[  2.   3.   4.   5.   6.   7.   8.   9.  10.]\n",
      "[  1.   2.   3.   4.   6.   7.   8.   9.  10.]\n"
     ]
    }
   ],
   "source": [
    "# Question 8\n",
    "\n",
    "import numpy\n",
    "numpy.set_printoptions(legacy='1.13')\n",
    "\n",
    "arr=numpy.array(list(map(float,input().split(' '))))\n",
    "\n",
    "print(numpy.floor(arr))\n",
    "print(numpy.ceil(arr))\n",
    "print(numpy.rint(arr))\n"
   ]
  },
  {
   "cell_type": "code",
   "execution_count": 9,
   "metadata": {},
   "outputs": [
    {
     "name": "stdout",
     "output_type": "stream",
     "text": [
      "2 2\n",
      "1 2\n",
      "3 4\n",
      "24\n"
     ]
    }
   ],
   "source": [
    "# Question 9\n",
    "\n",
    "import numpy\n",
    "\n",
    "N, M = map(int, input().split())\n",
    "A = numpy.array([input().split() for _ in range(N)], int)\n",
    "print(numpy.prod(numpy.sum(A, axis=0), axis=0))\n"
   ]
  },
  {
   "cell_type": "code",
   "execution_count": 1,
   "metadata": {},
   "outputs": [
    {
     "name": "stdout",
     "output_type": "stream",
     "text": [
      "4 2\n",
      "2 5\n",
      "3 7\n",
      "1 3\n",
      "4 0\n",
      "3\n"
     ]
    }
   ],
   "source": [
    "# Question  10\n",
    "\n",
    "import numpy\n",
    "\n",
    "N, M = map(int, input().split())\n",
    "s = numpy.array([input().split() for _ in range(N)],int)\n",
    "print(numpy.max(numpy.min(s, axis=1), axis=0))"
   ]
  },
  {
   "cell_type": "code",
   "execution_count": 2,
   "metadata": {},
   "outputs": [
    {
     "name": "stdout",
     "output_type": "stream",
     "text": [
      "2 2\n",
      "1 2\n",
      "3 4\n",
      "[1.5 3.5]\n",
      "[1. 1.]\n",
      "1.11803398875\n"
     ]
    }
   ],
   "source": [
    "# Question 11\n",
    "\n",
    "import numpy\n",
    "\n",
    "lst=list(map(int,input().split(' ')))\n",
    "n=lst[0]\n",
    "m=lst[1]\n",
    "\n",
    "lst=[]\n",
    "for i in range(n):\n",
    "    lst.append(list(map(int,input().split(' '))))\n",
    "    \n",
    "arr=numpy.array(lst)\n",
    "\n",
    "print(numpy.mean(arr,axis=1))\n",
    "print(numpy.var(arr,axis=0))\n",
    "print(round(numpy.std(arr),11))"
   ]
  },
  {
   "cell_type": "code",
   "execution_count": 3,
   "metadata": {},
   "outputs": [
    {
     "name": "stdout",
     "output_type": "stream",
     "text": [
      "2\n",
      "1 2\n",
      "3 4\n",
      "1 2\n",
      "3 4\n",
      "[[ 7 10]\n",
      " [15 22]]\n"
     ]
    }
   ],
   "source": [
    "# Question  12\n",
    "\n",
    "import numpy\n",
    "\n",
    "\n",
    "n=int(input())\n",
    "\n",
    "lst=[]\n",
    "for i in range(n):\n",
    "    lst.append(list(map(int,input().split(' '))))\n",
    "    \n",
    "arrA=numpy.array(lst)\n",
    "\n",
    "lst=[]\n",
    "for i in range(n):\n",
    "    lst.append(list(map(int,input().split(' '))))\n",
    "    \n",
    "arrB=numpy.array(lst)\n",
    "\n",
    "print(numpy.matmul(arrA,arrB))"
   ]
  },
  {
   "cell_type": "code",
   "execution_count": 4,
   "metadata": {},
   "outputs": [
    {
     "name": "stdout",
     "output_type": "stream",
     "text": [
      "0 1\n",
      "2 3\n",
      "3\n",
      "[[0 0]\n",
      " [2 3]]\n"
     ]
    }
   ],
   "source": [
    "# Question 13\n",
    "\n",
    "import numpy\n",
    "\n",
    "arr1=numpy.array((list(map(int,input().split(' ')))))\n",
    "arr2=numpy.array((list(map(int,input().split(' ')))))\n",
    "\n",
    "print(numpy.inner(arr1,arr2))\n",
    "print(numpy.outer(arr1,arr2))"
   ]
  },
  {
   "cell_type": "code",
   "execution_count": 5,
   "metadata": {},
   "outputs": [
    {
     "name": "stdout",
     "output_type": "stream",
     "text": [
      "1.1 2 3\n",
      "0\n",
      "3.0\n"
     ]
    }
   ],
   "source": [
    "# Question  14\n",
    "\n",
    "import numpy\n",
    "\n",
    "arr1=numpy.array((list(map(float,input().split(' ')))))\n",
    "\n",
    "n=int(input())\n",
    "\n",
    "print(numpy.polyval(arr1,n))\n"
   ]
  },
  {
   "cell_type": "code",
   "execution_count": 7,
   "metadata": {},
   "outputs": [
    {
     "name": "stdout",
     "output_type": "stream",
     "text": [
      "2\n",
      "1.1 1.1\n",
      "1.1 1.1\n",
      "0.0\n"
     ]
    }
   ],
   "source": [
    "# Question  15\n",
    "\n",
    "import numpy\n",
    "\n",
    "n=int(input())\n",
    "lst=[]\n",
    "for i in range(n):\n",
    "    lst.append(list(map(float,input().split(' '))))\n",
    "    \n",
    "arr=numpy.array(lst)\n",
    "\n",
    "print(round(numpy.linalg.det(arr),2))"
   ]
  }
 ],
 "metadata": {
  "kernelspec": {
   "display_name": "Python 3",
   "language": "python",
   "name": "python3"
  },
  "language_info": {
   "codemirror_mode": {
    "name": "ipython",
    "version": 3
   },
   "file_extension": ".py",
   "mimetype": "text/x-python",
   "name": "python",
   "nbconvert_exporter": "python",
   "pygments_lexer": "ipython3",
   "version": "3.8.3"
  }
 },
 "nbformat": 4,
 "nbformat_minor": 4
}
